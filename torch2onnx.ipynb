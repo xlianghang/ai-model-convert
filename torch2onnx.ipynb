{
 "cells": [
  {
   "cell_type": "code",
   "execution_count": 55,
   "metadata": {},
   "outputs": [
    {
     "name": "stdout",
     "output_type": "stream",
     "text": [
      "1.9.1\n",
      "Output path is: output-models/aa.onnx\n"
     ]
    }
   ],
   "source": [
    "import torch\n",
    "import re\n",
    "\n",
    "print(torch.__version__)\n",
    "input_model_path = ''\n",
    "\n",
    "\n",
    "dummy_input = torch.randn(1, 768)\n",
    "dummy_output = torch.rand((1, 1))\n",
    "input_model_name = re.sub(r'\\.(.+)$', '.onnx', input_model_path.split('/')[-1])\n",
    "outputPath = 'output-models/' + input_model_name\n",
    "print('Output path is: {}'.format(outputPath))\n",
    "\n",
    "model = torch.jit.load(input_model_path)\n",
    "model.eval()\n",
    "torch.onnx.export(model,         # model being run \n",
    "         dummy_input,       # model input (or a tuple for multiple inputs) \n",
    "         outputPath,       # where to save the model  \n",
    "        #  export_params=True,  # store the trained parameter weights inside the model file \n",
    "        #  opset_version=11,    # the ONNX version to export the model to \n",
    "        #  do_constant_folding=True,  # whether to execute constant folding for optimization \n",
    "        verbose=True,\n",
    "         input_names = ['input'],   # the model's input names \n",
    "         output_names = ['output'], # the model's output names \n",
    "         example_outputs=dummy_output)\n",
    "print(\" \")\n",
    "print('Model has been converted to ONNX') "
   ]
  }
 ],
 "metadata": {
  "interpreter": {
   "hash": "85143b9b6cb9508bc23a539a9e21bca772d464f7a1889f17f9bec657faad4002"
  },
  "kernelspec": {
   "display_name": "Python 3.8.8 64-bit ('env_pytorch': conda)",
   "language": "python",
   "name": "python3"
  },
  "language_info": {
   "codemirror_mode": {
    "name": "ipython",
    "version": 3
   },
   "file_extension": ".py",
   "mimetype": "text/x-python",
   "name": "python",
   "nbconvert_exporter": "python",
   "pygments_lexer": "ipython3",
   "version": "3.8.8"
  },
  "orig_nbformat": 4
 },
 "nbformat": 4,
 "nbformat_minor": 2
}
